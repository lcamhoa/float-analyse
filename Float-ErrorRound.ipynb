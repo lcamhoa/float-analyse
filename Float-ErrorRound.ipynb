{
 "cells": [
  {
   "cell_type": "markdown",
   "metadata": {},
   "source": [
    "# Floating Point Analyse"
   ]
  },
  {
   "cell_type": "markdown",
   "metadata": {},
   "source": [
    "Ref: https://docs.oracle.com/cd/E19957-01/806-3568/ncg_goldberg.html\n",
    "https://docs.python.org/3/library/functions.html#float"
   ]
  },
  {
   "cell_type": "markdown",
   "metadata": {},
   "source": [
    "# Guard Digits\n",
    "One method of computing the difference between two floating-point numbers is to compute the difference exactly and then round it to the nearest floating-point number. This is very expensive if the operands differ greatly in size. Assuming p = 3, 2.15 × 10<sup>12</sup> - 1.25 × 10<sup>-5</sup> would be calculated as\n",
    "\n",
    "x = 2.15 × 10<sup>12</sup>\n",
    "\n",
    "y = .0000000000000000125 × 10<sup>12</sup>\n",
    "\n",
    "x - y = 2.1499999999999999875 × 10<sup>12</sup>\n",
    "\n",
    "which rounds to 2.15 × 1012. Rather than using all these digits, floating-point hardware normally operates on a fixed number of digits. Suppose that the number of digits kept is p, and that when the smaller operand is shifted right, digits are simply discarded (as opposed to rounding). Then 2.15 × 1012 - 1.25 × 10-5 becomes\n",
    "\n",
    "x = 2.15 × 10<sup>12</sup>\n",
    "\n",
    "y = 0.00 × 10<sup>12</sup>\n",
    "\n",
    "x - y = 2.15 × 10<sup>12</sup>\n",
    "\n",
    "The answer is exactly the same as if the difference had been computed exactly and then rounded. Take another example: 10.1 - 9.93. This becomes\n",
    "\n",
    "x = 1.01 × 10<sup>1<sup>\n",
    "\n",
    "y = 0.99 × 10<sup>1<sup>\n",
    "\n",
    "x - y = .02 × 10<sup>1<sup>\n",
    "\n",
    "The correct answer is .17, so the computed difference is off by 30 ulps and is wrong in every digit! How bad can the error be?"
   ]
  },
  {
   "cell_type": "code",
   "execution_count": 3,
   "metadata": {},
   "outputs": [
    {
     "data": {
      "text/plain": [
       "2150000000000.0"
      ]
     },
     "execution_count": 3,
     "metadata": {},
     "output_type": "execute_result"
    }
   ],
   "source": [
    "x = float('2.15e+12')\n",
    "x"
   ]
  },
  {
   "cell_type": "code",
   "execution_count": 6,
   "metadata": {},
   "outputs": [
    {
     "data": {
      "text/plain": [
       "1.25e-05"
      ]
     },
     "execution_count": 6,
     "metadata": {},
     "output_type": "execute_result"
    }
   ],
   "source": [
    "y = float('0.0000000000000000125e12')\n",
    "y"
   ]
  },
  {
   "cell_type": "code",
   "execution_count": 10,
   "metadata": {},
   "outputs": [
    {
     "name": "stdout",
     "output_type": "stream",
     "text": [
      "2150000000000.0 - 1.25e-05 = 2150000000000.0\n"
     ]
    }
   ],
   "source": [
    "z = x - y\n",
    "print(\"{0} - {1} = {2}\".format(x,y,z))"
   ]
  },
  {
   "cell_type": "markdown",
   "metadata": {},
   "source": [
    "### IEE 754 Floating Point Standard \n",
    "\n",
    "![IEE Standard](https://media.geeksforgeeks.org/wp-content/uploads/Single-Precision-IEEE-754-Floating-Point-Standard.jpg)\n"
   ]
  },
  {
   "cell_type": "markdown",
   "metadata": {},
   "source": [
    "The answer is exactly the same as if the difference had been computed exactly and then rounded. Take another example: 10.1 - 9.93. This becomes\n",
    "\n",
    "x = 1.01 × 101\n",
    "y = 0.99 × 101\n",
    "x - y = .02 × 101\n",
    "The correct answer is .17, so the computed difference is off by 30 ulps and is wrong in every digit! How bad can the error be?"
   ]
  },
  {
   "cell_type": "code",
   "execution_count": 1,
   "metadata": {},
   "outputs": [
    {
     "data": {
      "text/plain": [
       "10.1"
      ]
     },
     "execution_count": 1,
     "metadata": {},
     "output_type": "execute_result"
    }
   ],
   "source": [
    "x1= float('1.01e1')\n",
    "x1"
   ]
  },
  {
   "cell_type": "code",
   "execution_count": 2,
   "metadata": {},
   "outputs": [
    {
     "data": {
      "text/plain": [
       "9.9"
      ]
     },
     "execution_count": 2,
     "metadata": {},
     "output_type": "execute_result"
    }
   ],
   "source": [
    "y1 = float('0.99e1')\n",
    "y1"
   ]
  },
  {
   "cell_type": "code",
   "execution_count": 3,
   "metadata": {},
   "outputs": [
    {
     "data": {
      "text/plain": [
       "0.1999999999999993"
      ]
     },
     "execution_count": 3,
     "metadata": {},
     "output_type": "execute_result"
    }
   ],
   "source": [
    "z1 = x1 -y1\n",
    "z1"
   ]
  },
  {
   "cell_type": "markdown",
   "metadata": {},
   "source": [
    "Expect number = 0.2\n",
    "Actual = 0.1999999999999993\n",
    "Dif = 0.0000000000000007"
   ]
  },
  {
   "cell_type": "code",
   "execution_count": 5,
   "metadata": {},
   "outputs": [
    {
     "name": "stdout",
     "output_type": "stream",
     "text": [
      "9.9 + 0.1999999999999993 = 10.1\n",
      "Added diff back is correct !\n"
     ]
    }
   ],
   "source": [
    "m1 = y1 + z1\n",
    "print(\"{0} + {1} = {2}\".format(y1, z1, m1))\n",
    "print('Added diff back is correct !')"
   ]
  },
  {
   "cell_type": "code",
   "execution_count": null,
   "metadata": {},
   "outputs": [],
   "source": []
  }
 ],
 "metadata": {
  "kernelspec": {
   "display_name": "Python 3",
   "language": "python",
   "name": "python3"
  },
  "language_info": {
   "codemirror_mode": {
    "name": "ipython",
    "version": 3
   },
   "file_extension": ".py",
   "mimetype": "text/x-python",
   "name": "python",
   "nbconvert_exporter": "python",
   "pygments_lexer": "ipython3",
   "version": "3.9.0"
  }
 },
 "nbformat": 4,
 "nbformat_minor": 4
}
